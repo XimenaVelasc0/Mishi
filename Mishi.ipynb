{
  "nbformat": 4,
  "nbformat_minor": 0,
  "metadata": {
    "colab": {
      "provenance": [],
      "name": "Mishi.ipynb"
    },
    "kernelspec": {
      "name": "python3",
      "display_name": "Python 3"
    },
    "language_info": {
      "name": "python"
    }
  },
  "cells": [
    {
      "cell_type": "code",
      "execution_count": null,
      "metadata": {
        "id": "bKy353Y7AoWl"
      },
      "outputs": [],
      "source": []
    },
    {
      "cell_type": "markdown",
      "source": [
        "**Lenguaje y Algoritmo**\n",
        "Lenguajes de programacion:\n",
        "*C\n",
        "*C++\n",
        "*Java\n",
        "*Fortran\n",
        "*Delphi\n",
        "**Algoritmo**\n",
        "Conjunto de pasos, procedimiemtos a acciones que nos permiten alcanzar un resultado o resolver un problema.\n",
        "\n",
        "Caracteristicas:\n",
        "\n",
        "Determinismo\n",
        "Precision\n",
        "Finitud\n",
        "\n",
        "(Cairo et al., 1993)\n",
        "\n",
        "**Datos**\n",
        "\n",
        "Valores enteros y valores reales.\n",
        "Valores enteros pueden estar precedidos por los signos ( + -)\n",
        "128 152s -714 8 530 -14 789\n",
        "7.5 120.0  -37.865  129.7   16 000.50\n",
        "\n",
        "**Datos Alfanuméricos**\n",
        "*Caracter\n",
        "*Cadena\n",
        "\n",
        "(A,B,C,...Z)\n",
        "(0,1,2,3...0)\n",
        "(#,?,$,%,*,ETC)\n",
        "\n",
        "'a''B''$''9'\n",
        "\n",
        "\"abc\" \"$947\" \"Heeeectoooor\" \"Patroclo!!!\" \"754-27-22\"\n",
        "\n",
        "**Datos Logicos**\n",
        "booleanos\n",
        "Verdadero (true)\n",
        "Falso     (False)"
      ],
      "metadata": {
        "id": "Gs3X1ZP0EQti"
      }
    },
    {
      "cell_type": "code",
      "source": [
        "#tipos de Variable Pythonn\n",
        "#El tipo de variable estará determinado por el tipo de dato que almacenamos\n",
        "#Enteron: vasta agregar un valor entero.\n",
        "\n",
        "a=10\n",
        "b=11\n",
        "\n",
        "#Decimales: deben agregarse un número con punto flotante\n",
        "c=3.1416\n",
        "\n",
        "#Booleanos: Datos con verdadero y falso\n",
        "#Se pueden usar palabras: True y False\n",
        "\n",
        "verdad = True\n",
        "falso = False\n",
        "\n",
        "Verdad = 1\n",
        "Falso = 0\n",
        "#Textos o Cadenas o Strings\n",
        "saludo = \"Hola Mundo\"\n",
        "nombre= \"Juan\"\n",
        "\n",
        "uno= 'a'\n",
        "dos= 'b'\n",
        "\n",
        "\n"
      ],
      "metadata": {
        "id": "GTcSvtiNLwGd"
      },
      "execution_count": null,
      "outputs": []
    }
  ]
}